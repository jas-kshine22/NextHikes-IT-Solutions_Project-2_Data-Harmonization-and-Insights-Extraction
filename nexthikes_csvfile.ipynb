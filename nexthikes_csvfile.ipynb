# %%
import pandas as pd

# Define sample data for Dataset_1
data_1 = {
    "date": ["2023-01-01", "2023-01-02", "2023-01-03"],
    "season": [1, 2, 3],
    "holiday": [0, 1, 0],
    "working_day": [1, 0, 1],
    "weather": [1, 2, 3],
    "temp": [15.0, 20.5, 22.0],
    "humidity": [50, 60, 65],
    "windspeed": [10, 12, 8],
    "casual": [50, 30, 20],
    "registered": [100, 200, 150],
    "count": [150, 230, 170]
}

# Create a DataFrame
df_1 = pd.DataFrame(data_1)

# Save DataFrame to a CSV file
df_1.to_csv("dataset_1.csv", index=False)

print("dataset_1.csv has been created successfully!")


# %%
import pandas as pd

# Define sample data for Dataset_2
data_2 = {
    "date": ["2023-01-01", "2023-01-02", "2023-01-03"],
    "season": [1, 2, 3],
    "holiday": [0, 1, 0],
    "working_day": [1, 0, 1],
    "weather": [1, 3, 4],
    "temp": [16.0, 21.5, 23.0],
    "humidity": [55, 65, 70],
    "windspeed": [9, 11, 7],
    "casual": [60, 40, 30],
    "registered": [110, 210, 160],
    "count": [170, 250, 190]
}

# Create a DataFrame
df_2 = pd.DataFrame(data_2)

# Save DataFrame to a CSV file
df_2.to_csv("dataset_2.csv", index=False)

print("dataset_2.csv has been created successfully!")


# %%
import pandas as pd

# Define sample data for Dataset_3
data_3 = {
    "date": ["2023-01-01", "2023-01-02", "2023-01-03"],
    "season": [1, 2, 3],
    "holiday": [0, 1, 0],
    "working_day": [1, 0, 1],
    "weather": [2, 4, 1],
    "temp": [14.0, 19.0, 21.0],
    "humidity": [53, 63, 68],
    "windspeed": [8, 10, 6],
    "casual": [70, 50, 40],
    "registered": [120, 220, 170],
    "count": [190, 270, 210]
}

# Create a DataFrame
df_3 = pd.DataFrame(data_3)

# Save DataFrame to a CSV file
df_3.to_csv("dataset_3.csv", index=False)

print("dataset_3.csv has been created successfully!")



